{
 "cells": [
  {
   "cell_type": "code",
   "execution_count": 2,
   "metadata": {},
   "outputs": [],
   "source": [
    "import numpy as np\n",
    "from PIL import Image"
   ]
  },
  {
   "cell_type": "code",
   "execution_count": 42,
   "metadata": {},
   "outputs": [],
   "source": [
    "P = 16 # Patch size, is it constant for all steps of the pyramid?\n",
    "factor, N = 2, 2 # Resizing factor, steps in pyramid\n",
    "alpha = 5 * 0.0001 # Value is not clear\n",
    "T = 5 # Value is not clear"
   ]
  },
  {
   "cell_type": "code",
   "execution_count": 16,
   "metadata": {},
   "outputs": [
    {
     "name": "stdout",
     "output_type": "stream",
     "text": [
      "(104, 187, 64, 64, 3)\n"
     ]
    }
   ],
   "source": [
    "from numpy.lib.stride_tricks import as_strided\n",
    "\n",
    "def get_image_patches(image, patch_size):\n",
    "    assert len(image.shape) == 3, \"Image should have dimensions (width, height, channel).\"\n",
    "    assert image.shape[2] == 3, \"Image should have 3 channels.\"\n",
    "\n",
    "    stride_w = image.strides[0]  # stride of width\n",
    "    stride_h = image.strides[1]  # stride of height\n",
    "    stride_c = image.strides[2]  # stride of channel\n",
    "\n",
    "    width, height, _ = image.shape\n",
    "    patch_width, patch_height = patch_size, patch_size\n",
    "\n",
    "    assert width >= patch_width, \"Patch size should be less than or equal to image width.\"\n",
    "    assert height >= patch_height, \"Patch size should be less than or equal to image height.\"\n",
    "\n",
    "    num_patches_w = width - patch_width + 1\n",
    "    num_patches_h = height - patch_height + 1\n",
    "\n",
    "    patches = as_strided(image, shape=(num_patches_w, num_patches_h, patch_width, patch_height, 3),\n",
    "                         strides=(stride_w, stride_h, stride_w, stride_h, stride_c))\n",
    "\n",
    "    return patches"
   ]
  },
  {
   "cell_type": "code",
   "execution_count": 59,
   "metadata": {},
   "outputs": [],
   "source": [
    "def compute_distance_between_images(list1, list2):\n",
    "    assert len(list1.shape) == 4, \"Images should have dimensions (num_images, height, width, channels).\"\n",
    "    assert len(list2.shape) == 4, \"Images should have dimensions (num_images, height, width, channels).\"\n",
    "\n",
    "    num_images1, height1, width1, channels1 = list1.shape\n",
    "    num_images2, height2, width2, channels2 = list2.shape\n",
    "\n",
    "    assert height1 == height2 and width1 == width2 and channels1 == channels2, \\\n",
    "        \"Images in both lists should have the same dimensions.\"\n",
    "\n",
    "    mse_values = np.zeros((num_images1, num_images2))\n",
    "\n",
    "    for i in range(num_images1):\n",
    "        for j in range(num_images2):\n",
    "            mse = np.mean((list1[i] - list2[j]) ** 2)\n",
    "            mse_values[i, j] = mse\n",
    "\n",
    "    return mse_values"
   ]
  },
  {
   "cell_type": "code",
   "execution_count": 64,
   "metadata": {},
   "outputs": [
    {
     "ename": "ValueError",
     "evalue": "operands could not be broadcast together with shapes (2,3) (2,) ",
     "output_type": "error",
     "traceback": [
      "\u001b[1;31m---------------------------------------------------------------------------\u001b[0m",
      "\u001b[1;31mValueError\u001b[0m                                Traceback (most recent call last)",
      "\u001b[1;32m<ipython-input-64-9df4fa681b3f>\u001b[0m in \u001b[0;36m<module>\u001b[1;34m\u001b[0m\n\u001b[0;32m      1\u001b[0m \u001b[0mdeneme\u001b[0m \u001b[1;33m=\u001b[0m \u001b[0mnp\u001b[0m\u001b[1;33m.\u001b[0m\u001b[0marray\u001b[0m\u001b[1;33m(\u001b[0m\u001b[1;33m[\u001b[0m\u001b[1;33m[\u001b[0m\u001b[1;36m1\u001b[0m\u001b[1;33m,\u001b[0m \u001b[1;36m2\u001b[0m\u001b[1;33m,\u001b[0m \u001b[1;36m3\u001b[0m\u001b[1;33m]\u001b[0m\u001b[1;33m,\u001b[0m \u001b[1;33m[\u001b[0m\u001b[1;36m4\u001b[0m\u001b[1;33m,\u001b[0m \u001b[1;36m5\u001b[0m\u001b[1;33m,\u001b[0m \u001b[1;36m6\u001b[0m\u001b[1;33m]\u001b[0m\u001b[1;33m]\u001b[0m\u001b[1;33m)\u001b[0m\u001b[1;33m\u001b[0m\u001b[1;33m\u001b[0m\u001b[0m\n\u001b[1;32m----> 2\u001b[1;33m \u001b[0mdeneme\u001b[0m \u001b[1;33m=\u001b[0m \u001b[0mdeneme\u001b[0m \u001b[1;33m/\u001b[0m \u001b[1;33m(\u001b[0m\u001b[0mnp\u001b[0m\u001b[1;33m.\u001b[0m\u001b[0mmin\u001b[0m\u001b[1;33m(\u001b[0m\u001b[0mdeneme\u001b[0m\u001b[1;33m,\u001b[0m \u001b[0maxis\u001b[0m\u001b[1;33m=\u001b[0m\u001b[1;36m1\u001b[0m\u001b[1;33m)\u001b[0m\u001b[1;33m)\u001b[0m\u001b[1;33m\u001b[0m\u001b[1;33m\u001b[0m\u001b[0m\n\u001b[0m\u001b[0;32m      3\u001b[0m \u001b[0mdeneme\u001b[0m\u001b[1;33m\u001b[0m\u001b[1;33m\u001b[0m\u001b[0m\n",
      "\u001b[1;31mValueError\u001b[0m: operands could not be broadcast together with shapes (2,3) (2,) "
     ]
    }
   ],
   "source": [
    "deneme = np.array([[1, 2, 3], [4, 5, 6]])\n",
    "deneme = deneme / (np.min(deneme, axis=1))\n",
    "deneme"
   ]
  },
  {
   "cell_type": "code",
   "execution_count": 65,
   "metadata": {},
   "outputs": [
    {
     "data": {
      "text/plain": [
       "(2, 3)"
      ]
     },
     "execution_count": 65,
     "metadata": {},
     "output_type": "execute_result"
    }
   ],
   "source": [
    "deneme.shape"
   ]
  },
  {
   "cell_type": "code",
   "execution_count": 51,
   "metadata": {},
   "outputs": [
    {
     "data": {
      "text/plain": [
       "(167, 250, 3)"
      ]
     },
     "execution_count": 51,
     "metadata": {},
     "output_type": "execute_result"
    }
   ],
   "source": [
    "image = Image.open('people_on_the_beach.jpg')\n",
    "C = len(image.getbands())\n",
    "image_arr = np.asarray(image)\n",
    "image_arr.shape"
   ]
  },
  {
   "cell_type": "code",
   "execution_count": null,
   "metadata": {},
   "outputs": [],
   "source": [
    "patches = get_image_patches(image_arr, P)  # Divide the image into (10, 10, 3) patches"
   ]
  },
  {
   "cell_type": "code",
   "execution_count": 40,
   "metadata": {},
   "outputs": [
    {
     "data": {
      "text/plain": [
       "[(167, 250, 3), (83, 125, 3), (41, 62, 3)]"
      ]
     },
     "execution_count": 40,
     "metadata": {},
     "output_type": "execute_result"
    }
   ],
   "source": [
    "# list of smaller images\n",
    "smaller_image_arrs = [np.asarray(image.resize((int(image.size[0]/(i * factor)), int(image.size[1]/(i * factor))))) for i in range(1, N+1)]\n",
    "smaller_image_arrs.insert(0, np.asarray(image))\n",
    "[i.shape for i in smaller_image_arrs]"
   ]
  },
  {
   "cell_type": "code",
   "execution_count": 60,
   "metadata": {},
   "outputs": [
    {
     "data": {
      "text/plain": [
       "((1222, 16, 16, 3), (1222, 16, 16, 3), (1222, 16, 16, 3))"
      ]
     },
     "execution_count": 60,
     "metadata": {},
     "output_type": "execute_result"
    }
   ],
   "source": [
    "#Nth step (coarsest scale)\n",
    "noise = np.random.normal(size=smaller_image_arrs[-1].shape)\n",
    "Q = smaller_image_arrs[-1] + noise # y_n+1\n",
    "Q = get_image_patches(Q, P)\n",
    "Q = Q.reshape(-1, P, P, C)\n",
    "V = smaller_image_arrs[-1] # x_n\n",
    "V = get_image_patches(V, P)\n",
    "V = V.reshape(-1, P, P, C)\n",
    "K = smaller_image_arrs[-1] # x_n+1\n",
    "K = get_image_patches(K, P)\n",
    "K = K.reshape(-1, P, P, C)\n",
    "\n",
    "Q.shape, K.shape, V.shape"
   ]
  },
  {
   "cell_type": "code",
   "execution_count": 56,
   "metadata": {},
   "outputs": [
    {
     "data": {
      "image/png": "[encoded data removed]",
      "text/plain": [
       "<PIL.Image.Image image mode=RGB size=16x16 at 0x194FF014FC8>"
      ]
     },
     "execution_count": 56,
     "metadata": {},
     "output_type": "execute_result"
    }
   ],
   "source": [
    "Image.fromarray(K[0, 0])"
   ]
  },
  {
   "cell_type": "code",
   "execution_count": 57,
   "metadata": {},
   "outputs": [
    {
     "data": {
      "image/png": "[encoded data removed]",
      "text/plain": [
       "<PIL.Image.Image image mode=RGB size=16x16 at 0x194FEFE3148>"
      ]
     },
     "execution_count": 57,
     "metadata": {},
     "output_type": "execute_result"
    }
   ],
   "source": [
    "K = K.reshape(-1, P, P, C)\n",
    "Image.fromarray(K[0])"
   ]
  },
  {
   "cell_type": "code",
   "execution_count": 61,
   "metadata": {},
   "outputs": [
    {
     "data": {
      "text/plain": [
       "array([[1.05782278e+00, 7.95402946e+01, 1.66501152e+02, ...,\n",
       "        2.59710987e+03, 2.60783927e+03, 2.71075081e+03],\n",
       "       [7.98980830e+01, 1.04149947e+00, 7.46295593e+01, ...,\n",
       "        2.55562175e+03, 2.50034610e+03, 2.58296025e+03],\n",
       "       [1.65812723e+02, 7.44854965e+01, 1.02907723e+00, ...,\n",
       "        2.58862949e+03, 2.48033423e+03, 2.50203487e+03],\n",
       "       ...,\n",
       "       [2.59043168e+03, 2.55245075e+03, 2.58607718e+03, ...,\n",
       "        1.11038031e+00, 8.58322769e+02, 1.95144337e+03],\n",
       "       [2.60942167e+03, 2.49912495e+03, 2.47748985e+03, ...,\n",
       "        8.57340899e+02, 1.11322563e+00, 9.04269472e+02],\n",
       "       [2.70887475e+03, 2.58603040e+03, 2.49914570e+03, ...,\n",
       "        1.94993651e+03, 9.02890340e+02, 1.12787113e+00]])"
      ]
     },
     "execution_count": 61,
     "metadata": {},
     "output_type": "execute_result"
    }
   ],
   "source": [
    "compute_distance_between_images(Q, K)"
   ]
  },
  {
   "cell_type": "code",
   "execution_count": 22,
   "metadata": {},
   "outputs": [],
   "source": [
    "def completeness_similarity(Q, K, a):\n",
    "    # Q, K are lists of patches (#patches, p, p)\n",
    "    # a is the normalizing factor\n",
    "    D = (Q - K) ** 2 # patches axis uzerinden\n",
    "    return D / (a + np.min(D, axis=1)) # axis=1 mi\n",
    "\n",
    "\n",
    "def gpnn(x, y):\n",
    "    \n",
    "    # x is x_n\n",
    "    # y is y_n+1\n",
    "    return prediction"
   ]
  }
 ],
 "metadata": {
  "kernelspec": {
   "display_name": "Python 3",
   "language": "python",
   "name": "python3"
  },
  "language_info": {
   "codemirror_mode": {
    "name": "ipython",
    "version": 3
   },
   "file_extension": ".py",
   "mimetype": "text/x-python",
   "name": "python",
   "nbconvert_exporter": "python",
   "pygments_lexer": "ipython3",
   "version": "3.7.6"
  },
  "orig_nbformat": 4
 },
 "nbformat": 4,
 "nbformat_minor": 2
}
