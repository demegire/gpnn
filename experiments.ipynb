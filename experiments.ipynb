{
 "cells": [
  {
   "cell_type": "code",
   "execution_count": 1,
   "metadata": {},
   "outputs": [],
   "source": [
    "import numpy as np\n",
    "from PIL import Image"
   ]
  },
  {
   "cell_type": "code",
   "execution_count": 2,
   "metadata": {},
   "outputs": [],
   "source": [
    "P = 7 # Patch size\n",
    "factor, N = 2, 2 # Resizing factor, steps in pyramid\n",
    "alpha = 5 * 0.0001 # Value is not clear, inf \n",
    "T = 10 # Number of iterations in each level, T = 1 in coarsest level"
   ]
  },
  {
   "cell_type": "code",
   "execution_count": 3,
   "metadata": {},
   "outputs": [],
   "source": [
    "from numpy.lib.stride_tricks import as_strided\n",
    "\n",
    "def get_image_patches(image, patch_size):\n",
    "    assert len(image.shape) == 3, \"Image should have dimensions (width, height, channel).\"\n",
    "    assert image.shape[2] == 3, \"Image should have 3 channels.\"\n",
    "\n",
    "    stride_w = image.strides[0]  # stride of width\n",
    "    stride_h = image.strides[1]  # stride of height\n",
    "    stride_c = image.strides[2]  # stride of channel\n",
    "\n",
    "    width, height, _ = image.shape\n",
    "    patch_width, patch_height = patch_size, patch_size\n",
    "\n",
    "    assert width >= patch_width, \"Patch size should be less than or equal to image width.\"\n",
    "    assert height >= patch_height, \"Patch size should be less than or equal to image height.\"\n",
    "\n",
    "    num_patches_w = width - patch_width + 1\n",
    "    num_patches_h = height - patch_height + 1\n",
    "\n",
    "    patches = as_strided(image, shape=(num_patches_w, num_patches_h, patch_width, patch_height, 3),\n",
    "                         strides=(stride_w, stride_h, stride_w, stride_h, stride_c))\n",
    "\n",
    "    return patches"
   ]
  },
  {
   "cell_type": "code",
   "execution_count": 4,
   "metadata": {},
   "outputs": [],
   "source": [
    "def compute_distance_between_images(list1, list2, alpha):\n",
    "    assert len(list1.shape) == 4, \"Images should have dimensions (num_images, height, width, channels).\"\n",
    "    assert len(list2.shape) == 4, \"Images should have dimensions (num_images, height, width, channels).\"\n",
    "\n",
    "    num_images1, height1, width1, channels1 = list1.shape\n",
    "    num_images2, height2, width2, channels2 = list2.shape\n",
    "\n",
    "    assert height1 == height2 and width1 == width2 and channels1 == channels2, \\\n",
    "        \"Images in both lists should have the same dimensions.\"\n",
    "\n",
    "    mse_values = np.zeros((num_images1, num_images2))\n",
    "\n",
    "    for i in range(num_images1):\n",
    "        for j in range(num_images2):\n",
    "            mse = np.mean((list1[i] - list2[j]) ** 2)\n",
    "            mse_values[i, j] = mse\n",
    "\n",
    "    mse_values = mse_values / ((np.min(mse_values, axis=1))[:, np.newaxis] + alpha)\n",
    "\n",
    "    return mse_values"
   ]
  },
  {
   "cell_type": "code",
   "execution_count": 5,
   "metadata": {},
   "outputs": [
    {
     "data": {
      "text/plain": [
       "(167, 250, 3)"
      ]
     },
     "execution_count": 5,
     "metadata": {},
     "output_type": "execute_result"
    }
   ],
   "source": [
    "image = Image.open('people_on_the_beach.jpg')\n",
    "C = len(image.getbands())\n",
    "image_arr = np.asarray(image)\n",
    "image_arr.shape"
   ]
  },
  {
   "cell_type": "code",
   "execution_count": 6,
   "metadata": {},
   "outputs": [],
   "source": [
    "patches = get_image_patches(image_arr, P)  # Divide the image into (10, 10, 3) patches"
   ]
  },
  {
   "cell_type": "code",
   "execution_count": 7,
   "metadata": {},
   "outputs": [
    {
     "data": {
      "text/plain": [
       "(161, 244, 7, 7, 3)"
      ]
     },
     "execution_count": 7,
     "metadata": {},
     "output_type": "execute_result"
    }
   ],
   "source": [
    "patches.shape"
   ]
  },
  {
   "cell_type": "code",
   "execution_count": 8,
   "metadata": {},
   "outputs": [
    {
     "data": {
      "text/plain": [
       "[(167, 250, 3), (83, 125, 3), (41, 62, 3)]"
      ]
     },
     "execution_count": 8,
     "metadata": {},
     "output_type": "execute_result"
    }
   ],
   "source": [
    "# list of smaller images\n",
    "smaller_image_arrs = [np.asarray(image.resize((int(image.size[0]/(i * factor)), int(image.size[1]/(i * factor))))) for i in range(1, N+1)]\n",
    "smaller_image_arrs.insert(0, np.asarray(image))\n",
    "[i.shape for i in smaller_image_arrs]"
   ]
  },
  {
   "cell_type": "code",
   "execution_count": 18,
   "metadata": {},
   "outputs": [
    {
     "data": {
      "text/plain": [
       "((1960, 7, 7, 3), (1960, 7, 7, 3), (1960, 7, 7, 3))"
      ]
     },
     "execution_count": 18,
     "metadata": {},
     "output_type": "execute_result"
    }
   ],
   "source": [
    "#Nth step (coarsest scale)\n",
    "noise = np.random.normal(size=smaller_image_arrs[-1].shape)\n",
    "Q = smaller_image_arrs[-1] + noise # y_n+1\n",
    "Q = get_image_patches(Q, P)\n",
    "Q = Q.reshape(-1, P, P, C)\n",
    "V = smaller_image_arrs[-1] # x_n\n",
    "V = get_image_patches(V, P)\n",
    "V_shape = V.shape\n",
    "V = V.reshape(-1, P, P, C)\n",
    "K = smaller_image_arrs[-1] # x_n+1\n",
    "K = get_image_patches(K, P)\n",
    "K = K.reshape(-1, P, P, C)\n",
    "\n",
    "Q.shape, K.shape, V.shape"
   ]
  },
  {
   "cell_type": "code",
   "execution_count": 11,
   "metadata": {},
   "outputs": [
    {
     "data": {
      "image/png": "[encoded data removed]",
      "text/plain": [
       "<PIL.Image.Image image mode=L size=3x7 at 0x1FB7AA48E08>"
      ]
     },
     "execution_count": 11,
     "metadata": {},
     "output_type": "execute_result"
    }
   ],
   "source": [
    "Image.fromarray(K[0, 0])"
   ]
  },
  {
   "cell_type": "code",
   "execution_count": 12,
   "metadata": {},
   "outputs": [
    {
     "data": {
      "image/png": "[encoded data removed]",
      "text/plain": [
       "<PIL.Image.Image image mode=RGB size=7x7 at 0x1FB7AA40F88>"
      ]
     },
     "execution_count": 12,
     "metadata": {},
     "output_type": "execute_result"
    }
   ],
   "source": [
    "K = K.reshape(-1, P, P, C)\n",
    "Image.fromarray(K[0])"
   ]
  },
  {
   "cell_type": "code",
   "execution_count": 12,
   "metadata": {},
   "outputs": [],
   "source": [
    "distances = compute_distance_between_images(Q, K, alpha)"
   ]
  },
  {
   "cell_type": "code",
   "execution_count": 13,
   "metadata": {},
   "outputs": [],
   "source": [
    "nearest_neighbors = np.argmax(distances, axis=1)"
   ]
  },
  {
   "cell_type": "code",
   "execution_count": 14,
   "metadata": {},
   "outputs": [
    {
     "data": {
      "text/plain": [
       "array([1814, 1814, 1814, ..., 1417, 1418, 1418], dtype=int64)"
      ]
     },
     "execution_count": 14,
     "metadata": {},
     "output_type": "execute_result"
    }
   ],
   "source": [
    "nearest_neighbors"
   ]
  },
  {
   "cell_type": "code",
   "execution_count": 15,
   "metadata": {},
   "outputs": [],
   "source": [
    "output = V[nearest_neighbors] # Output"
   ]
  },
  {
   "cell_type": "code",
   "execution_count": 27,
   "metadata": {},
   "outputs": [],
   "source": [
    "from scipy.ndimage import gaussian_filter\n",
    "sigma = 2.0  # Standard deviation of the Gaussian distribution\n",
    "weights = gaussian_filter(np.ones((P, P)), sigma)"
   ]
  },
  {
   "cell_type": "code",
   "execution_count": 20,
   "metadata": {},
   "outputs": [],
   "source": [
    "output = output.reshape(V_shape[0], V_shape[1], P, P, C)"
   ]
  },
  {
   "cell_type": "code",
   "execution_count": 24,
   "metadata": {},
   "outputs": [
    {
     "data": {
      "text/plain": [
       "(35, 56, 7, 7, 3)"
      ]
     },
     "execution_count": 24,
     "metadata": {},
     "output_type": "execute_result"
    }
   ],
   "source": [
    "output.shape"
   ]
  },
  {
   "cell_type": "code",
   "execution_count": 49,
   "metadata": {},
   "outputs": [],
   "source": [
    "new_image = np.zeros_like(smaller_image_arrs[-1])\n",
    "counter = np.zeros_like(smaller_image_arrs[-1])"
   ]
  },
  {
   "cell_type": "code",
   "execution_count": 45,
   "metadata": {},
   "outputs": [
    {
     "data": {
      "text/plain": [
       "dtype('uint8')"
      ]
     },
     "execution_count": 45,
     "metadata": {},
     "output_type": "execute_result"
    }
   ],
   "source": [
    "counter.dtype"
   ]
  },
  {
   "cell_type": "code",
   "execution_count": 50,
   "metadata": {},
   "outputs": [],
   "source": [
    "for i in range(output.shape[0]):\n",
    "    for j in range(output.shape[1]):\n",
    "        new_image[i:i+P, j:j+P] += output[i, j] # Gaussian kullanilmali\n",
    "        counter[i:i+P, j:j+P] += 1\n",
    "\n",
    "new_image = new_image // counter # Sikintili"
   ]
  },
  {
   "cell_type": "code",
   "execution_count": 51,
   "metadata": {},
   "outputs": [
    {
     "data": {
      "image/png": "[encoded data removed]",
      "text/plain": [
       "<PIL.Image.Image image mode=RGB size=62x41 at 0x1D9BC4A66C8>"
      ]
     },
     "execution_count": 51,
     "metadata": {},
     "output_type": "execute_result"
    }
   ],
   "source": [
    "Image.fromarray(new_image)"
   ]
  },
  {
   "cell_type": "code",
   "execution_count": 52,
   "metadata": {},
   "outputs": [
    {
     "data": {
      "text/plain": [
       "array([1, 1, 1], dtype=uint8)"
      ]
     },
     "execution_count": 52,
     "metadata": {},
     "output_type": "execute_result"
    }
   ],
   "source": [
    "counter[0, 0]"
   ]
  },
  {
   "cell_type": "code",
   "execution_count": 53,
   "metadata": {},
   "outputs": [
    {
     "data": {
      "text/plain": [
       "array([1, 1, 1], dtype=uint8)"
      ]
     },
     "execution_count": 53,
     "metadata": {},
     "output_type": "execute_result"
    }
   ],
   "source": [
    "counter[-1, -1]"
   ]
  },
  {
   "cell_type": "code",
   "execution_count": 55,
   "metadata": {},
   "outputs": [
    {
     "data": {
      "text/plain": [
       "array([49, 49, 49], dtype=uint8)"
      ]
     },
     "execution_count": 55,
     "metadata": {},
     "output_type": "execute_result"
    }
   ],
   "source": [
    "counter[20, 20]"
   ]
  }
 ],
 "metadata": {
  "kernelspec": {
   "display_name": "Python 3",
   "language": "python",
   "name": "python3"
  },
  "language_info": {
   "codemirror_mode": {
    "name": "ipython",
    "version": 3
   },
   "file_extension": ".py",
   "mimetype": "text/x-python",
   "name": "python",
   "nbconvert_exporter": "python",
   "pygments_lexer": "ipython3",
   "version": "3.7.6"
  },
  "orig_nbformat": 4
 },
 "nbformat": 4,
 "nbformat_minor": 2
}
