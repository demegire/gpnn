{
 "cells": [
  {
   "cell_type": "code",
   "execution_count": 1,
   "metadata": {},
   "outputs": [],
   "source": [
    "import numpy as np\n",
    "from PIL import Image"
   ]
  },
  {
   "cell_type": "code",
   "execution_count": 6,
   "metadata": {},
   "outputs": [
    {
     "name": "stdout",
     "output_type": "stream",
     "text": [
      " Volume in drive C is Acer\n",
      " Volume Serial Number is 5CC0-4D15\n",
      "\n",
      " Directory of c:\\Users\\EGE\\gpnn\\gpnn\n",
      "\n",
      "17.05.2023  10:38    <DIR>          .\n",
      "17.05.2023  10:38    <DIR>          ..\n",
      "17.05.2023  10:38             2.470 experiments.ipynb\n",
      "17.05.2023  10:38             1.087 LICENSE\n",
      "               2 File(s)          3.557 bytes\n",
      "               2 Dir(s)  75.661.778.944 bytes free\n"
     ]
    }
   ],
   "source": [
    "!dir"
   ]
  },
  {
   "cell_type": "code",
   "execution_count": 8,
   "metadata": {},
   "outputs": [
    {
     "data": {
      "text/plain": [
       "(167, 250, 3)"
      ]
     },
     "execution_count": 8,
     "metadata": {},
     "output_type": "execute_result"
    }
   ],
   "source": [
    "image = Image.open('people_on_the_beach.jpg')\n",
    "image = np.asarray(image)\n",
    "image.shape"
   ]
  },
  {
   "cell_type": "code",
   "execution_count": 9,
   "metadata": {},
   "outputs": [
    {
     "name": "stdout",
     "output_type": "stream",
     "text": [
      "(104, 187, 64, 64, 3)\n"
     ]
    }
   ],
   "source": [
    "from numpy.lib.stride_tricks import as_strided\n",
    "\n",
    "def get_image_patches(image, patch_size):\n",
    "    assert len(image.shape) == 3, \"Image should have dimensions (width, height, channel).\"\n",
    "    assert image.shape[2] == 3, \"Image should have 3 channels.\"\n",
    "\n",
    "    stride_w = image.strides[0]  # stride of width\n",
    "    stride_h = image.strides[1]  # stride of height\n",
    "    stride_c = image.strides[2]  # stride of channel\n",
    "\n",
    "    width, height, _ = image.shape\n",
    "    patch_width, patch_height = patch_size, patch_size\n",
    "\n",
    "    assert width >= patch_width, \"Patch size should be less than or equal to image width.\"\n",
    "    assert height >= patch_height, \"Patch size should be less than or equal to image height.\"\n",
    "\n",
    "    num_patches_w = width - patch_width + 1\n",
    "    num_patches_h = height - patch_height + 1\n",
    "\n",
    "    patches = as_strided(image, shape=(num_patches_w, num_patches_h, patch_width, patch_height, 3),\n",
    "                         strides=(stride_w, stride_h, stride_w, stride_h, stride_c))\n",
    "\n",
    "    return patches\n",
    "\n",
    "# Test\n",
    "patches = get_image_patches(image, 64)  # Divide the image into (10, 10, 3) patches\n",
    "print(patches.shape)  # Should print: (91, 91, 10, 10, 3)\n"
   ]
  },
  {
   "cell_type": "code",
   "execution_count": 11,
   "metadata": {},
   "outputs": [
    {
     "data": {
      "image/png": "[encoded data removed]",
      "text/plain": [
       "<PIL.Image.Image image mode=RGB size=64x64 at 0x1B5FF6171C8>"
      ]
     },
     "execution_count": 11,
     "metadata": {},
     "output_type": "execute_result"
    }
   ],
   "source": [
    "patch = Image.fromarray(patches[0,0])\n",
    "patch"
   ]
  },
  {
   "cell_type": "code",
   "execution_count": 22,
   "metadata": {},
   "outputs": [],
   "source": [
    "def create_patches(im, p):\n",
    "    im = im.reshape(im.shape[0]/p, p, im.shape[1]/p, p, im.shape[2])\n",
    "    return im.swapaxes(1, 2)\n",
    "\n",
    "def completeness_similarity(Q, K, a):\n",
    "    # Q, K are lists of patches (#patches, p, p)\n",
    "    # a is the normalizing factor\n",
    "    D = np.power(Q - K, 2) # patches axis uzerinden\n",
    "    return D / (a + np.min(D, axis=1)) # axis=1 mi\n",
    "\n",
    "\n",
    "def gpnn(x, y):\n",
    "    \n",
    "    # x is x_n\n",
    "    # y is y_n+1\n",
    "    return prediction"
   ]
  }
 ],
 "metadata": {
  "kernelspec": {
   "display_name": "Python 3",
   "language": "python",
   "name": "python3"
  },
  "language_info": {
   "codemirror_mode": {
    "name": "ipython",
    "version": 3
   },
   "file_extension": ".py",
   "mimetype": "text/x-python",
   "name": "python",
   "nbconvert_exporter": "python",
   "pygments_lexer": "ipython3",
   "version": "3.7.6"
  },
  "orig_nbformat": 4
 },
 "nbformat": 4,
 "nbformat_minor": 2
}
